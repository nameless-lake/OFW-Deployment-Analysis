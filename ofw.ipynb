{
 "cells": [
  {
   "cell_type": "markdown",
   "metadata": {},
   "source": [
    "### DOLE Deployment of OFWs by Country of Destination from 2007-2012"
   ]
  },
  {
   "cell_type": "markdown",
   "metadata": {},
   "source": [
    "The dataset used can be found here: https://data.gov.ph/?q=dataset/deployed-overseas-filipino-workers-ofws-country-destination"
   ]
  },
  {
   "cell_type": "markdown",
   "metadata": {},
   "source": [
    "Overseas Filipino Workers (OFWs) are an important part of Filipino society. Not only do they work hard to provide for their families, they also help the country's economy. Personal remittances accounted for 9% of our GDP in 2012<sup>[1]</sup>.\n",
    "Additionally, according to the Philippine Statistics Authority, there were around 2.2 million OFWs in 2012<sup>[2]</sup>. Analyzing this dataset from the Department of Labor and Employment may provide us with an idea as to where OFWs were deployed to work from 2007-2012.\n",
    "\n",
    "The goal of this analysis is to answer the following questions:\n",
    "- Which destinations had the highest share of Filipino OFW deployment from 2007-2012?\n",
    "- How did these destinations grow in OFW deployment over the 6 year period?\n",
    "\n",
    "[1]:https://data.worldbank.org/indicator/BX.TRF.PWKR.DT.GD.ZS?locations=PH&most_recent_value_desc=true\n",
    "[2]:https://psa.gov.ph/content/2012-survey-overseas-filipinos#:~:text=Overseas%20Filipino%20Workers%20is%20estimated,was%20estimated%20at%202.220%20million."
   ]
  },
  {
   "cell_type": "code",
   "execution_count": 52,
   "metadata": {},
   "outputs": [],
   "source": [
    "#To facilicate our anylasis, we will be making use of the following libraries:\n",
    "import pandas as pd\n",
    "import numpy as np\n",
    "import matplotlib.pyplot as plt\n",
    "\n",
    "#The dataset will be assigned to the variable 'ofw' and dash(-) values will be converted to NaN (not a number)\n",
    "ofw = pd.read_csv('ofw.csv',na_values='-')"
   ]
  },
  {
   "cell_type": "markdown",
   "metadata": {},
   "source": [
    "### Exploring and cleaning the dataset"
   ]
  },
  {
   "cell_type": "code",
   "execution_count": 2,
   "metadata": {
    "scrolled": false
   },
   "outputs": [
    {
     "name": "stdout",
     "output_type": "stream",
     "text": [
      "<class 'pandas.core.frame.DataFrame'>\n",
      "RangeIndex: 54 entries, 0 to 53\n",
      "Data columns (total 9 columns):\n",
      " #   Column                    Non-Null Count  Dtype  \n",
      "---  ------                    --------------  -----  \n",
      " 0   country_of_destination_1  54 non-null     object \n",
      " 1   country_of_destination_2  54 non-null     object \n",
      " 2   country_of_destination_3  54 non-null     object \n",
      " 3   2007                      50 non-null     float64\n",
      " 4   2008                      50 non-null     float64\n",
      " 5   2009                      53 non-null     float64\n",
      " 6   2010                      48 non-null     float64\n",
      " 7   2011                      48 non-null     float64\n",
      " 8   2012                      48 non-null     float64\n",
      "dtypes: float64(6), object(3)\n",
      "memory usage: 3.9+ KB\n"
     ]
    }
   ],
   "source": [
    "#Dataset information\n",
    "ofw.info()"
   ]
  },
  {
   "cell_type": "code",
   "execution_count": 3,
   "metadata": {
    "scrolled": false
   },
   "outputs": [
    {
     "data": {
      "text/html": [
       "<div>\n",
       "<style scoped>\n",
       "    .dataframe tbody tr th:only-of-type {\n",
       "        vertical-align: middle;\n",
       "    }\n",
       "\n",
       "    .dataframe tbody tr th {\n",
       "        vertical-align: top;\n",
       "    }\n",
       "\n",
       "    .dataframe thead th {\n",
       "        text-align: right;\n",
       "    }\n",
       "</style>\n",
       "<table border=\"1\" class=\"dataframe\">\n",
       "  <thead>\n",
       "    <tr style=\"text-align: right;\">\n",
       "      <th></th>\n",
       "      <th>country_of_destination_1</th>\n",
       "      <th>country_of_destination_2</th>\n",
       "      <th>country_of_destination_3</th>\n",
       "      <th>2007</th>\n",
       "      <th>2008</th>\n",
       "      <th>2009</th>\n",
       "      <th>2010</th>\n",
       "      <th>2011</th>\n",
       "      <th>2012</th>\n",
       "    </tr>\n",
       "  </thead>\n",
       "  <tbody>\n",
       "    <tr>\n",
       "      <th>0</th>\n",
       "      <td>Land-Based</td>\n",
       "      <td>Land-Based</td>\n",
       "      <td>Land-Based</td>\n",
       "      <td>811070.0</td>\n",
       "      <td>974399.0</td>\n",
       "      <td>1092162.0</td>\n",
       "      <td>1123676.0</td>\n",
       "      <td>1318727.0</td>\n",
       "      <td>1435166.0</td>\n",
       "    </tr>\n",
       "    <tr>\n",
       "      <th>1</th>\n",
       "      <td>Land-Based</td>\n",
       "      <td>Africa</td>\n",
       "      <td>Africa</td>\n",
       "      <td>13126.0</td>\n",
       "      <td>16434.0</td>\n",
       "      <td>18967.0</td>\n",
       "      <td>25207.0</td>\n",
       "      <td>28531.0</td>\n",
       "      <td>25194.0</td>\n",
       "    </tr>\n",
       "    <tr>\n",
       "      <th>2</th>\n",
       "      <td>Land-Based</td>\n",
       "      <td>Africa</td>\n",
       "      <td>Angola</td>\n",
       "      <td>2935.0</td>\n",
       "      <td>4289.0</td>\n",
       "      <td>5222.0</td>\n",
       "      <td>6255.0</td>\n",
       "      <td>5313.0</td>\n",
       "      <td>4294.0</td>\n",
       "    </tr>\n",
       "    <tr>\n",
       "      <th>3</th>\n",
       "      <td>Land-Based</td>\n",
       "      <td>Africa</td>\n",
       "      <td>Equatorial Guinea</td>\n",
       "      <td>1780.0</td>\n",
       "      <td>1654.0</td>\n",
       "      <td>1692.0</td>\n",
       "      <td>1876.0</td>\n",
       "      <td>2020.0</td>\n",
       "      <td>1931.0</td>\n",
       "    </tr>\n",
       "    <tr>\n",
       "      <th>4</th>\n",
       "      <td>Land-Based</td>\n",
       "      <td>Africa</td>\n",
       "      <td>Nigeria</td>\n",
       "      <td>1601.0</td>\n",
       "      <td>12.0</td>\n",
       "      <td>252.0</td>\n",
       "      <td>1426.0</td>\n",
       "      <td>1691.0</td>\n",
       "      <td>1997.0</td>\n",
       "    </tr>\n",
       "  </tbody>\n",
       "</table>\n",
       "</div>"
      ],
      "text/plain": [
       "  country_of_destination_1 country_of_destination_2 country_of_destination_3  \\\n",
       "0               Land-Based               Land-Based               Land-Based   \n",
       "1               Land-Based                   Africa                   Africa   \n",
       "2               Land-Based                   Africa                   Angola   \n",
       "3               Land-Based                   Africa        Equatorial Guinea   \n",
       "4               Land-Based                   Africa                  Nigeria   \n",
       "\n",
       "       2007      2008       2009       2010       2011       2012  \n",
       "0  811070.0  974399.0  1092162.0  1123676.0  1318727.0  1435166.0  \n",
       "1   13126.0   16434.0    18967.0    25207.0    28531.0    25194.0  \n",
       "2    2935.0    4289.0     5222.0     6255.0     5313.0     4294.0  \n",
       "3    1780.0    1654.0     1692.0     1876.0     2020.0     1931.0  \n",
       "4    1601.0      12.0      252.0     1426.0     1691.0     1997.0  "
      ]
     },
     "execution_count": 3,
     "metadata": {},
     "output_type": "execute_result"
    }
   ],
   "source": [
    "#The dataset at a glance\n",
    "ofw.head()"
   ]
  },
  {
   "cell_type": "code",
   "execution_count": 4,
   "metadata": {},
   "outputs": [
    {
     "name": "stdout",
     "output_type": "stream",
     "text": [
      "<class 'pandas.core.frame.DataFrame'>\n",
      "RangeIndex: 54 entries, 0 to 53\n",
      "Data columns (total 9 columns):\n",
      " #   Column       Non-Null Count  Dtype  \n",
      "---  ------       --------------  -----  \n",
      " 0   land_or_sea  54 non-null     object \n",
      " 1   continent    54 non-null     object \n",
      " 2   country      54 non-null     object \n",
      " 3   2007         50 non-null     float64\n",
      " 4   2008         50 non-null     float64\n",
      " 5   2009         53 non-null     float64\n",
      " 6   2010         48 non-null     float64\n",
      " 7   2011         48 non-null     float64\n",
      " 8   2012         48 non-null     float64\n",
      "dtypes: float64(6), object(3)\n",
      "memory usage: 3.9+ KB\n"
     ]
    }
   ],
   "source": [
    "#Renaming columns for clarity\n",
    "ofw.columns = ['land_or_sea','continent','country','2007','2008','2009','2010','2011','2012']\n",
    "ofw.info()"
   ]
  },
  {
   "cell_type": "code",
   "execution_count": 5,
   "metadata": {},
   "outputs": [
    {
     "data": {
      "text/html": [
       "<div>\n",
       "<style scoped>\n",
       "    .dataframe tbody tr th:only-of-type {\n",
       "        vertical-align: middle;\n",
       "    }\n",
       "\n",
       "    .dataframe tbody tr th {\n",
       "        vertical-align: top;\n",
       "    }\n",
       "\n",
       "    .dataframe thead th {\n",
       "        text-align: right;\n",
       "    }\n",
       "</style>\n",
       "<table border=\"1\" class=\"dataframe\">\n",
       "  <thead>\n",
       "    <tr style=\"text-align: right;\">\n",
       "      <th></th>\n",
       "      <th>land_or_sea</th>\n",
       "      <th>continent</th>\n",
       "      <th>country</th>\n",
       "      <th>2007</th>\n",
       "      <th>2008</th>\n",
       "      <th>2009</th>\n",
       "      <th>2010</th>\n",
       "      <th>2011</th>\n",
       "      <th>2012</th>\n",
       "    </tr>\n",
       "  </thead>\n",
       "  <tbody>\n",
       "    <tr>\n",
       "      <th>0</th>\n",
       "      <td>Land-Based</td>\n",
       "      <td>Land-Based</td>\n",
       "      <td>Land-Based</td>\n",
       "      <td>811070.0</td>\n",
       "      <td>974399.0</td>\n",
       "      <td>1092162.0</td>\n",
       "      <td>1123676.0</td>\n",
       "      <td>1318727.0</td>\n",
       "      <td>1435166.0</td>\n",
       "    </tr>\n",
       "    <tr>\n",
       "      <th>1</th>\n",
       "      <td>Land-Based</td>\n",
       "      <td>Africa</td>\n",
       "      <td>Africa</td>\n",
       "      <td>13126.0</td>\n",
       "      <td>16434.0</td>\n",
       "      <td>18967.0</td>\n",
       "      <td>25207.0</td>\n",
       "      <td>28531.0</td>\n",
       "      <td>25194.0</td>\n",
       "    </tr>\n",
       "    <tr>\n",
       "      <th>7</th>\n",
       "      <td>Land-Based</td>\n",
       "      <td>America</td>\n",
       "      <td>America</td>\n",
       "      <td>28019.0</td>\n",
       "      <td>31916.0</td>\n",
       "      <td>31146.0</td>\n",
       "      <td>25696.0</td>\n",
       "      <td>27679.0</td>\n",
       "      <td>29553.0</td>\n",
       "    </tr>\n",
       "    <tr>\n",
       "      <th>13</th>\n",
       "      <td>Land-Based</td>\n",
       "      <td>Asia</td>\n",
       "      <td>Asia</td>\n",
       "      <td>218983.0</td>\n",
       "      <td>219598.0</td>\n",
       "      <td>260995.0</td>\n",
       "      <td>280808.0</td>\n",
       "      <td>415224.0</td>\n",
       "      <td>476021.0</td>\n",
       "    </tr>\n",
       "    <tr>\n",
       "      <th>22</th>\n",
       "      <td>Land-Based</td>\n",
       "      <td>Europe</td>\n",
       "      <td>Europe</td>\n",
       "      <td>45613.0</td>\n",
       "      <td>51795.0</td>\n",
       "      <td>47409.0</td>\n",
       "      <td>48185.0</td>\n",
       "      <td>57880.0</td>\n",
       "      <td>47070.0</td>\n",
       "    </tr>\n",
       "    <tr>\n",
       "      <th>28</th>\n",
       "      <td>Land-Based</td>\n",
       "      <td>Middle East</td>\n",
       "      <td>Middle East</td>\n",
       "      <td>487878.0</td>\n",
       "      <td>631828.0</td>\n",
       "      <td>669042.0</td>\n",
       "      <td>684060.0</td>\n",
       "      <td>764586.0</td>\n",
       "      <td>825402.0</td>\n",
       "    </tr>\n",
       "    <tr>\n",
       "      <th>38</th>\n",
       "      <td>Land-Based</td>\n",
       "      <td>Oceania</td>\n",
       "      <td>Oceania</td>\n",
       "      <td>10691.0</td>\n",
       "      <td>15030.0</td>\n",
       "      <td>13297.0</td>\n",
       "      <td>12341.0</td>\n",
       "      <td>19492.0</td>\n",
       "      <td>27391.0</td>\n",
       "    </tr>\n",
       "    <tr>\n",
       "      <th>42</th>\n",
       "      <td>Land-Based</td>\n",
       "      <td>Trust Territories</td>\n",
       "      <td>Trust Territories</td>\n",
       "      <td>6674.0</td>\n",
       "      <td>5461.0</td>\n",
       "      <td>5134.0</td>\n",
       "      <td>3107.0</td>\n",
       "      <td>4236.0</td>\n",
       "      <td>3682.0</td>\n",
       "    </tr>\n",
       "    <tr>\n",
       "      <th>47</th>\n",
       "      <td>Not Reported</td>\n",
       "      <td>Not Reported</td>\n",
       "      <td>Not Reported</td>\n",
       "      <td>7.0</td>\n",
       "      <td>2265.0</td>\n",
       "      <td>4992.0</td>\n",
       "      <td>44272.0</td>\n",
       "      <td>1099.0</td>\n",
       "      <td>853.0</td>\n",
       "    </tr>\n",
       "    <tr>\n",
       "      <th>48</th>\n",
       "      <td>Others</td>\n",
       "      <td>Others</td>\n",
       "      <td>Others</td>\n",
       "      <td>79.0</td>\n",
       "      <td>72.0</td>\n",
       "      <td>41180.0</td>\n",
       "      <td>NaN</td>\n",
       "      <td>NaN</td>\n",
       "      <td>NaN</td>\n",
       "    </tr>\n",
       "    <tr>\n",
       "      <th>53</th>\n",
       "      <td>Sea-Based</td>\n",
       "      <td>Sea-Based</td>\n",
       "      <td>Sea-Based</td>\n",
       "      <td>266553.0</td>\n",
       "      <td>261614.0</td>\n",
       "      <td>330424.0</td>\n",
       "      <td>347150.0</td>\n",
       "      <td>369104.0</td>\n",
       "      <td>366865.0</td>\n",
       "    </tr>\n",
       "  </tbody>\n",
       "</table>\n",
       "</div>"
      ],
      "text/plain": [
       "     land_or_sea          continent            country      2007      2008  \\\n",
       "0     Land-Based         Land-Based         Land-Based  811070.0  974399.0   \n",
       "1     Land-Based             Africa             Africa   13126.0   16434.0   \n",
       "7     Land-Based            America            America   28019.0   31916.0   \n",
       "13    Land-Based               Asia               Asia  218983.0  219598.0   \n",
       "22    Land-Based             Europe             Europe   45613.0   51795.0   \n",
       "28    Land-Based        Middle East        Middle East  487878.0  631828.0   \n",
       "38    Land-Based            Oceania            Oceania   10691.0   15030.0   \n",
       "42    Land-Based  Trust Territories  Trust Territories    6674.0    5461.0   \n",
       "47  Not Reported       Not Reported       Not Reported       7.0    2265.0   \n",
       "48        Others             Others             Others      79.0      72.0   \n",
       "53     Sea-Based          Sea-Based          Sea-Based  266553.0  261614.0   \n",
       "\n",
       "         2009       2010       2011       2012  \n",
       "0   1092162.0  1123676.0  1318727.0  1435166.0  \n",
       "1     18967.0    25207.0    28531.0    25194.0  \n",
       "7     31146.0    25696.0    27679.0    29553.0  \n",
       "13   260995.0   280808.0   415224.0   476021.0  \n",
       "22    47409.0    48185.0    57880.0    47070.0  \n",
       "28   669042.0   684060.0   764586.0   825402.0  \n",
       "38    13297.0    12341.0    19492.0    27391.0  \n",
       "42     5134.0     3107.0     4236.0     3682.0  \n",
       "47     4992.0    44272.0     1099.0      853.0  \n",
       "48    41180.0        NaN        NaN        NaN  \n",
       "53   330424.0   347150.0   369104.0   366865.0  "
      ]
     },
     "execution_count": 5,
     "metadata": {},
     "output_type": "execute_result"
    }
   ],
   "source": [
    "#Aggregated rows\n",
    "ofw[ofw.iloc[:,1]==ofw.iloc[:,2]]"
   ]
  },
  {
   "cell_type": "markdown",
   "metadata": {},
   "source": [
    "Since our goal is concerned with identifying specific destinations through summary calculations, we will remove the already aggregated 'Land-Based' rows. \n",
    "\n",
    "The 'Not Reported' and 'Others' rows will also be removed since both are not relevant to our goal and the latter contains null values.\n",
    "\n",
    "We will be keeping the 'Sea-Based' row since a signficant number of Filipino OFWs pursue Marine Careers. The destination shall still be referred to as 'Sea-Based.'"
   ]
  },
  {
   "cell_type": "code",
   "execution_count": 6,
   "metadata": {},
   "outputs": [
    {
     "data": {
      "text/html": [
       "<div>\n",
       "<style scoped>\n",
       "    .dataframe tbody tr th:only-of-type {\n",
       "        vertical-align: middle;\n",
       "    }\n",
       "\n",
       "    .dataframe tbody tr th {\n",
       "        vertical-align: top;\n",
       "    }\n",
       "\n",
       "    .dataframe thead th {\n",
       "        text-align: right;\n",
       "    }\n",
       "</style>\n",
       "<table border=\"1\" class=\"dataframe\">\n",
       "  <thead>\n",
       "    <tr style=\"text-align: right;\">\n",
       "      <th></th>\n",
       "      <th>land_or_sea</th>\n",
       "      <th>continent</th>\n",
       "      <th>country</th>\n",
       "      <th>2007</th>\n",
       "      <th>2008</th>\n",
       "      <th>2009</th>\n",
       "      <th>2010</th>\n",
       "      <th>2011</th>\n",
       "      <th>2012</th>\n",
       "    </tr>\n",
       "  </thead>\n",
       "  <tbody>\n",
       "    <tr>\n",
       "      <th>43</th>\n",
       "      <td>Land-Based</td>\n",
       "      <td>Trust Territories</td>\n",
       "      <td>Commonwealth of Northern</td>\n",
       "      <td>NaN</td>\n",
       "      <td>NaN</td>\n",
       "      <td>NaN</td>\n",
       "      <td>NaN</td>\n",
       "      <td>NaN</td>\n",
       "      <td>NaN</td>\n",
       "    </tr>\n",
       "    <tr>\n",
       "      <th>48</th>\n",
       "      <td>Others</td>\n",
       "      <td>Others</td>\n",
       "      <td>Others</td>\n",
       "      <td>79.0</td>\n",
       "      <td>72.0</td>\n",
       "      <td>41180.0</td>\n",
       "      <td>NaN</td>\n",
       "      <td>NaN</td>\n",
       "      <td>NaN</td>\n",
       "    </tr>\n",
       "    <tr>\n",
       "      <th>49</th>\n",
       "      <td>Others</td>\n",
       "      <td>Others</td>\n",
       "      <td>Workers With Special Exit Clearance</td>\n",
       "      <td>79.0</td>\n",
       "      <td>72.0</td>\n",
       "      <td>253.0</td>\n",
       "      <td>NaN</td>\n",
       "      <td>NaN</td>\n",
       "      <td>NaN</td>\n",
       "    </tr>\n",
       "    <tr>\n",
       "      <th>50</th>\n",
       "      <td>Others</td>\n",
       "      <td>Others</td>\n",
       "      <td>Labor Assistance Center (LAC) Laoag</td>\n",
       "      <td>NaN</td>\n",
       "      <td>NaN</td>\n",
       "      <td>7.0</td>\n",
       "      <td>NaN</td>\n",
       "      <td>NaN</td>\n",
       "      <td>NaN</td>\n",
       "    </tr>\n",
       "    <tr>\n",
       "      <th>51</th>\n",
       "      <td>Others</td>\n",
       "      <td>Others</td>\n",
       "      <td>Labor Assistance Center (LAC) Pampanga</td>\n",
       "      <td>NaN</td>\n",
       "      <td>NaN</td>\n",
       "      <td>40466.0</td>\n",
       "      <td>NaN</td>\n",
       "      <td>NaN</td>\n",
       "      <td>NaN</td>\n",
       "    </tr>\n",
       "    <tr>\n",
       "      <th>52</th>\n",
       "      <td>Others</td>\n",
       "      <td>Others</td>\n",
       "      <td>Employment-based Immigration</td>\n",
       "      <td>NaN</td>\n",
       "      <td>NaN</td>\n",
       "      <td>454.0</td>\n",
       "      <td>NaN</td>\n",
       "      <td>NaN</td>\n",
       "      <td>NaN</td>\n",
       "    </tr>\n",
       "  </tbody>\n",
       "</table>\n",
       "</div>"
      ],
      "text/plain": [
       "   land_or_sea          continent                                 country  \\\n",
       "43  Land-Based  Trust Territories                Commonwealth of Northern   \n",
       "48      Others             Others                                  Others   \n",
       "49      Others             Others     Workers With Special Exit Clearance   \n",
       "50      Others             Others     Labor Assistance Center (LAC) Laoag   \n",
       "51      Others             Others  Labor Assistance Center (LAC) Pampanga   \n",
       "52      Others             Others            Employment-based Immigration   \n",
       "\n",
       "    2007  2008     2009  2010  2011  2012  \n",
       "43   NaN   NaN      NaN   NaN   NaN   NaN  \n",
       "48  79.0  72.0  41180.0   NaN   NaN   NaN  \n",
       "49  79.0  72.0    253.0   NaN   NaN   NaN  \n",
       "50   NaN   NaN      7.0   NaN   NaN   NaN  \n",
       "51   NaN   NaN  40466.0   NaN   NaN   NaN  \n",
       "52   NaN   NaN    454.0   NaN   NaN   NaN  "
      ]
     },
     "execution_count": 6,
     "metadata": {},
     "output_type": "execute_result"
    }
   ],
   "source": [
    "#Rows with null values\n",
    "ofw[ofw.isnull().any(axis=1)]"
   ]
  },
  {
   "cell_type": "markdown",
   "metadata": {},
   "source": [
    "To keep the calculation consistent, we will be removing these rows with null values. The 'Others' rows will be unused since they do not indicate specific destinations. The 'Trust Territories' row will be removed since the numerical values are all null."
   ]
  },
  {
   "cell_type": "code",
   "execution_count": 7,
   "metadata": {
    "scrolled": true
   },
   "outputs": [
    {
     "data": {
      "text/html": [
       "<div>\n",
       "<style scoped>\n",
       "    .dataframe tbody tr th:only-of-type {\n",
       "        vertical-align: middle;\n",
       "    }\n",
       "\n",
       "    .dataframe tbody tr th {\n",
       "        vertical-align: top;\n",
       "    }\n",
       "\n",
       "    .dataframe thead th {\n",
       "        text-align: right;\n",
       "    }\n",
       "</style>\n",
       "<table border=\"1\" class=\"dataframe\">\n",
       "  <thead>\n",
       "    <tr style=\"text-align: right;\">\n",
       "      <th></th>\n",
       "      <th>land_or_sea</th>\n",
       "      <th>continent</th>\n",
       "      <th>country</th>\n",
       "      <th>2007</th>\n",
       "      <th>2008</th>\n",
       "      <th>2009</th>\n",
       "      <th>2010</th>\n",
       "      <th>2011</th>\n",
       "      <th>2012</th>\n",
       "    </tr>\n",
       "  </thead>\n",
       "  <tbody>\n",
       "    <tr>\n",
       "      <th>6</th>\n",
       "      <td>Land-Based</td>\n",
       "      <td>Africa</td>\n",
       "      <td>Rest of Africa</td>\n",
       "      <td>5749.0</td>\n",
       "      <td>9125.0</td>\n",
       "      <td>10261.0</td>\n",
       "      <td>14209.0</td>\n",
       "      <td>17566.0</td>\n",
       "      <td>15657.0</td>\n",
       "    </tr>\n",
       "    <tr>\n",
       "      <th>12</th>\n",
       "      <td>Land-Based</td>\n",
       "      <td>America</td>\n",
       "      <td>Rest of America</td>\n",
       "      <td>4288.0</td>\n",
       "      <td>4760.0</td>\n",
       "      <td>5596.0</td>\n",
       "      <td>6309.0</td>\n",
       "      <td>5695.0</td>\n",
       "      <td>5317.0</td>\n",
       "    </tr>\n",
       "    <tr>\n",
       "      <th>21</th>\n",
       "      <td>Land-Based</td>\n",
       "      <td>Asia</td>\n",
       "      <td>Rest of Asia</td>\n",
       "      <td>25723.0</td>\n",
       "      <td>29143.0</td>\n",
       "      <td>36743.0</td>\n",
       "      <td>37007.0</td>\n",
       "      <td>44709.0</td>\n",
       "      <td>57919.0</td>\n",
       "    </tr>\n",
       "    <tr>\n",
       "      <th>27</th>\n",
       "      <td>Land-Based</td>\n",
       "      <td>Europe</td>\n",
       "      <td>Rest of Europe</td>\n",
       "      <td>10681.0</td>\n",
       "      <td>12563.0</td>\n",
       "      <td>9992.0</td>\n",
       "      <td>10989.0</td>\n",
       "      <td>13884.0</td>\n",
       "      <td>12649.0</td>\n",
       "    </tr>\n",
       "    <tr>\n",
       "      <th>37</th>\n",
       "      <td>Land-Based</td>\n",
       "      <td>Middle East</td>\n",
       "      <td>Rest of Middle East</td>\n",
       "      <td>11675.0</td>\n",
       "      <td>7796.0</td>\n",
       "      <td>8406.0</td>\n",
       "      <td>9654.0</td>\n",
       "      <td>9635.0</td>\n",
       "      <td>9881.0</td>\n",
       "    </tr>\n",
       "    <tr>\n",
       "      <th>41</th>\n",
       "      <td>Land-Based</td>\n",
       "      <td>Oceania</td>\n",
       "      <td>Rest of Oceania</td>\n",
       "      <td>3236.0</td>\n",
       "      <td>4126.0</td>\n",
       "      <td>2897.0</td>\n",
       "      <td>2292.0</td>\n",
       "      <td>3850.0</td>\n",
       "      <td>4133.0</td>\n",
       "    </tr>\n",
       "    <tr>\n",
       "      <th>46</th>\n",
       "      <td>Land-Based</td>\n",
       "      <td>Trust Territories</td>\n",
       "      <td>Rest of Trust Territories</td>\n",
       "      <td>1038.0</td>\n",
       "      <td>989.0</td>\n",
       "      <td>970.0</td>\n",
       "      <td>1188.0</td>\n",
       "      <td>1508.0</td>\n",
       "      <td>1523.0</td>\n",
       "    </tr>\n",
       "  </tbody>\n",
       "</table>\n",
       "</div>"
      ],
      "text/plain": [
       "   land_or_sea          continent                    country     2007  \\\n",
       "6   Land-Based             Africa             Rest of Africa   5749.0   \n",
       "12  Land-Based            America            Rest of America   4288.0   \n",
       "21  Land-Based               Asia               Rest of Asia  25723.0   \n",
       "27  Land-Based             Europe             Rest of Europe  10681.0   \n",
       "37  Land-Based        Middle East        Rest of Middle East  11675.0   \n",
       "41  Land-Based            Oceania            Rest of Oceania   3236.0   \n",
       "46  Land-Based  Trust Territories  Rest of Trust Territories   1038.0   \n",
       "\n",
       "       2008     2009     2010     2011     2012  \n",
       "6    9125.0  10261.0  14209.0  17566.0  15657.0  \n",
       "12   4760.0   5596.0   6309.0   5695.0   5317.0  \n",
       "21  29143.0  36743.0  37007.0  44709.0  57919.0  \n",
       "27  12563.0   9992.0  10989.0  13884.0  12649.0  \n",
       "37   7796.0   8406.0   9654.0   9635.0   9881.0  \n",
       "41   4126.0   2897.0   2292.0   3850.0   4133.0  \n",
       "46    989.0    970.0   1188.0   1508.0   1523.0  "
      ]
     },
     "execution_count": 7,
     "metadata": {},
     "output_type": "execute_result"
    }
   ],
   "source": [
    "#'Rest of Country' rows\n",
    "ofw[ofw['country'].str.contains('Rest')]"
   ]
  },
  {
   "cell_type": "markdown",
   "metadata": {},
   "source": [
    "The 'Rest of' rows are aggrerated values for unmentioned destinations under a specific continent. The dataset does not indicate what these countries are. We will keep them since they complete the total values for continent categories.\n",
    "\n",
    "The data cleaning will proceed in the next cell."
   ]
  },
  {
   "cell_type": "code",
   "execution_count": 9,
   "metadata": {},
   "outputs": [],
   "source": [
    "#Remove all aggregated rows\n",
    "ofw_clean = ofw[ofw.iloc[:,1]!=ofw.iloc[:,2]]\n",
    "\n",
    "#Separate 'Sea-based' row and append to the cleaned dataset\n",
    "ofw_sea = ofw[ofw.iloc[:,0]=='Sea-Based']\n",
    "ofw_clean = ofw_clean.append(ofw_sea)\n",
    "\n",
    "#Remove rows with null values\n",
    "ofw_clean = ofw_clean.dropna()\n",
    "\n",
    "#Reset indexes\n",
    "ofw_clean = ofw_clean.reset_index(drop=True)"
   ]
  },
  {
   "cell_type": "markdown",
   "metadata": {},
   "source": [
    "We will assign the cleaned 'ofw' dataset to 'ofw_clean'. The data is now ready for analysis."
   ]
  },
  {
   "cell_type": "code",
   "execution_count": 10,
   "metadata": {
    "scrolled": true
   },
   "outputs": [
    {
     "name": "stdout",
     "output_type": "stream",
     "text": [
      "<class 'pandas.core.frame.DataFrame'>\n",
      "RangeIndex: 39 entries, 0 to 38\n",
      "Data columns (total 9 columns):\n",
      " #   Column       Non-Null Count  Dtype  \n",
      "---  ------       --------------  -----  \n",
      " 0   land_or_sea  39 non-null     object \n",
      " 1   continent    39 non-null     object \n",
      " 2   country      39 non-null     object \n",
      " 3   2007         39 non-null     float64\n",
      " 4   2008         39 non-null     float64\n",
      " 5   2009         39 non-null     float64\n",
      " 6   2010         39 non-null     float64\n",
      " 7   2011         39 non-null     float64\n",
      " 8   2012         39 non-null     float64\n",
      "dtypes: float64(6), object(3)\n",
      "memory usage: 2.9+ KB\n"
     ]
    }
   ],
   "source": [
    "ofw_clean.info()"
   ]
  },
  {
   "cell_type": "markdown",
   "metadata": {},
   "source": [
    "### Analyzing OFW deployment by continent "
   ]
  },
  {
   "cell_type": "code",
   "execution_count": 28,
   "metadata": {
    "scrolled": false
   },
   "outputs": [
    {
     "data": {
      "text/html": [
       "<div>\n",
       "<style scoped>\n",
       "    .dataframe tbody tr th:only-of-type {\n",
       "        vertical-align: middle;\n",
       "    }\n",
       "\n",
       "    .dataframe tbody tr th {\n",
       "        vertical-align: top;\n",
       "    }\n",
       "\n",
       "    .dataframe thead th {\n",
       "        text-align: right;\n",
       "    }\n",
       "</style>\n",
       "<table border=\"1\" class=\"dataframe\">\n",
       "  <thead>\n",
       "    <tr style=\"text-align: right;\">\n",
       "      <th></th>\n",
       "      <th>2007</th>\n",
       "      <th>2008</th>\n",
       "      <th>2009</th>\n",
       "      <th>2010</th>\n",
       "      <th>2011</th>\n",
       "      <th>2012</th>\n",
       "      <th>total</th>\n",
       "      <th>avg_growth_rate</th>\n",
       "    </tr>\n",
       "    <tr>\n",
       "      <th>continent</th>\n",
       "      <th></th>\n",
       "      <th></th>\n",
       "      <th></th>\n",
       "      <th></th>\n",
       "      <th></th>\n",
       "      <th></th>\n",
       "      <th></th>\n",
       "      <th></th>\n",
       "    </tr>\n",
       "  </thead>\n",
       "  <tbody>\n",
       "    <tr>\n",
       "      <th>Trust Territories</th>\n",
       "      <td>6674.0</td>\n",
       "      <td>5461.0</td>\n",
       "      <td>5134.0</td>\n",
       "      <td>3107.0</td>\n",
       "      <td>4236.0</td>\n",
       "      <td>3682.0</td>\n",
       "      <td>28294.0</td>\n",
       "      <td>-9.44%</td>\n",
       "    </tr>\n",
       "    <tr>\n",
       "      <th>Oceania</th>\n",
       "      <td>10691.0</td>\n",
       "      <td>15030.0</td>\n",
       "      <td>13297.0</td>\n",
       "      <td>12341.0</td>\n",
       "      <td>19492.0</td>\n",
       "      <td>24391.0</td>\n",
       "      <td>95242.0</td>\n",
       "      <td>14.74%</td>\n",
       "    </tr>\n",
       "    <tr>\n",
       "      <th>Africa</th>\n",
       "      <td>13126.0</td>\n",
       "      <td>16434.0</td>\n",
       "      <td>18967.0</td>\n",
       "      <td>25207.0</td>\n",
       "      <td>28531.0</td>\n",
       "      <td>25194.0</td>\n",
       "      <td>127459.0</td>\n",
       "      <td>11.48%</td>\n",
       "    </tr>\n",
       "    <tr>\n",
       "      <th>America</th>\n",
       "      <td>28019.0</td>\n",
       "      <td>31916.0</td>\n",
       "      <td>31146.0</td>\n",
       "      <td>25696.0</td>\n",
       "      <td>27679.0</td>\n",
       "      <td>29553.0</td>\n",
       "      <td>174009.0</td>\n",
       "      <td>0.89%</td>\n",
       "    </tr>\n",
       "    <tr>\n",
       "      <th>Europe</th>\n",
       "      <td>45613.0</td>\n",
       "      <td>51795.0</td>\n",
       "      <td>47409.0</td>\n",
       "      <td>48185.0</td>\n",
       "      <td>57880.0</td>\n",
       "      <td>47070.0</td>\n",
       "      <td>297952.0</td>\n",
       "      <td>0.53%</td>\n",
       "    </tr>\n",
       "    <tr>\n",
       "      <th>Asia</th>\n",
       "      <td>218983.0</td>\n",
       "      <td>219598.0</td>\n",
       "      <td>260995.0</td>\n",
       "      <td>280808.0</td>\n",
       "      <td>415224.0</td>\n",
       "      <td>476021.0</td>\n",
       "      <td>1871629.0</td>\n",
       "      <td>13.82%</td>\n",
       "    </tr>\n",
       "    <tr>\n",
       "      <th>Sea-Based</th>\n",
       "      <td>266553.0</td>\n",
       "      <td>261614.0</td>\n",
       "      <td>330424.0</td>\n",
       "      <td>347150.0</td>\n",
       "      <td>369104.0</td>\n",
       "      <td>366865.0</td>\n",
       "      <td>1941710.0</td>\n",
       "      <td>5.47%</td>\n",
       "    </tr>\n",
       "    <tr>\n",
       "      <th>Middle East</th>\n",
       "      <td>487878.0</td>\n",
       "      <td>631828.0</td>\n",
       "      <td>669042.0</td>\n",
       "      <td>684060.0</td>\n",
       "      <td>764586.0</td>\n",
       "      <td>825402.0</td>\n",
       "      <td>4062796.0</td>\n",
       "      <td>9.16%</td>\n",
       "    </tr>\n",
       "  </tbody>\n",
       "</table>\n",
       "</div>"
      ],
      "text/plain": [
       "                       2007      2008      2009      2010      2011      2012  \\\n",
       "continent                                                                       \n",
       "Trust Territories    6674.0    5461.0    5134.0    3107.0    4236.0    3682.0   \n",
       "Oceania             10691.0   15030.0   13297.0   12341.0   19492.0   24391.0   \n",
       "Africa              13126.0   16434.0   18967.0   25207.0   28531.0   25194.0   \n",
       "America             28019.0   31916.0   31146.0   25696.0   27679.0   29553.0   \n",
       "Europe              45613.0   51795.0   47409.0   48185.0   57880.0   47070.0   \n",
       "Asia               218983.0  219598.0  260995.0  280808.0  415224.0  476021.0   \n",
       "Sea-Based          266553.0  261614.0  330424.0  347150.0  369104.0  366865.0   \n",
       "Middle East        487878.0  631828.0  669042.0  684060.0  764586.0  825402.0   \n",
       "\n",
       "                       total avg_growth_rate  \n",
       "continent                                     \n",
       "Trust Territories    28294.0          -9.44%  \n",
       "Oceania              95242.0          14.74%  \n",
       "Africa              127459.0          11.48%  \n",
       "America             174009.0           0.89%  \n",
       "Europe              297952.0           0.53%  \n",
       "Asia               1871629.0          13.82%  \n",
       "Sea-Based          1941710.0           5.47%  \n",
       "Middle East        4062796.0           9.16%  "
      ]
     },
     "execution_count": 28,
     "metadata": {},
     "output_type": "execute_result"
    }
   ],
   "source": [
    "#Aggregating destinations by continent\n",
    "ofw_continents = ofw_clean.groupby('continent').sum()\n",
    "\n",
    "#Create a total column and sort the dataframe by total deployed OFWs\n",
    "ofw_continents['total'] = ofw_continents.sum(axis=1)\n",
    "ofw_continents = ofw_continents.sort_values(by=['total'])\n",
    "\n",
    "#Calcuate the compound average growth rate of OFW deployment for each continent\n",
    "def CAGR(first, last, periods):\n",
    "    return (last/first)**(1/periods)-1\n",
    "\n",
    "ofw_continents['avg_growth_rate'] = CAGR(ofw_continents.iloc[:,0],ofw_continents.iloc[:,5],6)\n",
    "ofw_continents['avg_growth_rate'] = ofw_continents['avg_growth_rate'].astype(float).map(\"{:.2%}\".format)\n",
    "\n",
    "ofw_continents"
   ]
  },
  {
   "cell_type": "markdown",
   "metadata": {},
   "source": [
    "The data shows that the Middle East is the top destination of OFW deployments from 2007-2012. The other two that follow are Sea-Based deployments and Asia deployments."
   ]
  },
  {
   "cell_type": "code",
   "execution_count": 59,
   "metadata": {},
   "outputs": [
    {
     "data": {
      "text/plain": [
       "Text(0, 0.5, '')"
      ]
     },
     "execution_count": 59,
     "metadata": {},
     "output_type": "execute_result"
    },
    {
     "data": {
      "image/png": "[encoded data removed]",
      "text/plain": [
       "<Figure size 432x288 with 1 Axes>"
      ]
     },
     "metadata": {
      "needs_background": "light"
     },
     "output_type": "display_data"
    }
   ],
   "source": [
    "#Bar chart comparison of total deployments\n",
    "ofw_continents.iloc[-3:,-2].T.plot(kind='barh')\n",
    "plt.xlabel('Deployment (in millions)')\n",
    "plt.ylabel('')"
   ]
  },
  {
   "cell_type": "markdown",
   "metadata": {},
   "source": [
    "Based on the bar chart, there were over 4 million OFWs deployed in the Middle East over a 6 year period. That is almost twice the number of Sea-Based and Asian OFW deployments."
   ]
  },
  {
   "cell_type": "code",
   "execution_count": 60,
   "metadata": {},
   "outputs": [
    {
     "data": {
      "text/plain": [
       "<AxesSubplot:>"
      ]
     },
     "execution_count": 60,
     "metadata": {},
     "output_type": "execute_result"
    },
    {
     "data": {
      "image/png": "[encoded data removed]",
      "text/plain": [
       "<Figure size 432x288 with 1 Axes>"
      ]
     },
     "metadata": {
      "needs_background": "light"
     },
     "output_type": "display_data"
    }
   ],
   "source": [
    "#Line graph of top 3 destinations\n",
    "ofw_continents.iloc[-3:,:-2].T.plot()"
   ]
  },
  {
   "cell_type": "markdown",
   "metadata": {},
   "source": [
    "Above is the growth of OFW deployment over time for the Top 3 destinations. They will be split into individual graphs below."
   ]
  },
  {
   "cell_type": "code",
   "execution_count": 61,
   "metadata": {
    "scrolled": true
   },
   "outputs": [
    {
     "data": {
      "text/plain": [
       "Text(2.3, 80000, 'Asia')"
      ]
     },
     "execution_count": 61,
     "metadata": {},
     "output_type": "execute_result"
    },
    {
     "data": {
      "image/png": "[encoded data removed]",
      "text/plain": [
       "<Figure size 1080x288 with 3 Axes>"
      ]
     },
     "metadata": {
      "needs_background": "light"
     },
     "output_type": "display_data"
    }
   ],
   "source": [
    "#Assign individual series per destination\n",
    "ofwc_me = ofw_continents.iloc[-1,:-2]\n",
    "ofwc_sb = ofw_continents.iloc[-2,:-2]\n",
    "ofwc_as = ofw_continents.iloc[-3,:-2]\n",
    "\n",
    "#Create and plot subplots for each destination\n",
    "fig, (ax1, ax2, ax3) = plt.subplots(1,3,sharey=True,sharex=True,figsize=(15,4))\n",
    "fig.suptitle('OFW Deployment per Year')\n",
    "\n",
    "axes = [ax1,ax2,ax3]\n",
    "\n",
    "ax1.plot(ofwc_me)\n",
    "ax1.text(1.8,80000,'Middle East')\n",
    "ax2.plot(ofwc_sb)\n",
    "ax2.text(1.8,80000,'Sea-Based')\n",
    "ax3.plot(ofwc_as)\n",
    "ax3.text(2.3,80000,'Asia')"
   ]
  },
  {
   "cell_type": "code",
   "execution_count": 62,
   "metadata": {},
   "outputs": [
    {
     "data": {
      "text/html": [
       "<div>\n",
       "<style scoped>\n",
       "    .dataframe tbody tr th:only-of-type {\n",
       "        vertical-align: middle;\n",
       "    }\n",
       "\n",
       "    .dataframe tbody tr th {\n",
       "        vertical-align: top;\n",
       "    }\n",
       "\n",
       "    .dataframe thead th {\n",
       "        text-align: right;\n",
       "    }\n",
       "</style>\n",
       "<table border=\"1\" class=\"dataframe\">\n",
       "  <thead>\n",
       "    <tr style=\"text-align: right;\">\n",
       "      <th></th>\n",
       "      <th>2007</th>\n",
       "      <th>2008</th>\n",
       "      <th>2009</th>\n",
       "      <th>2010</th>\n",
       "      <th>2011</th>\n",
       "      <th>2012</th>\n",
       "      <th>total</th>\n",
       "      <th>avg_growth_rate</th>\n",
       "    </tr>\n",
       "    <tr>\n",
       "      <th>continent</th>\n",
       "      <th></th>\n",
       "      <th></th>\n",
       "      <th></th>\n",
       "      <th></th>\n",
       "      <th></th>\n",
       "      <th></th>\n",
       "      <th></th>\n",
       "      <th></th>\n",
       "    </tr>\n",
       "  </thead>\n",
       "  <tbody>\n",
       "    <tr>\n",
       "      <th>Asia</th>\n",
       "      <td>218983.0</td>\n",
       "      <td>219598.0</td>\n",
       "      <td>260995.0</td>\n",
       "      <td>280808.0</td>\n",
       "      <td>415224.0</td>\n",
       "      <td>476021.0</td>\n",
       "      <td>1871629.0</td>\n",
       "      <td>13.82%</td>\n",
       "    </tr>\n",
       "    <tr>\n",
       "      <th>Sea-Based</th>\n",
       "      <td>266553.0</td>\n",
       "      <td>261614.0</td>\n",
       "      <td>330424.0</td>\n",
       "      <td>347150.0</td>\n",
       "      <td>369104.0</td>\n",
       "      <td>366865.0</td>\n",
       "      <td>1941710.0</td>\n",
       "      <td>5.47%</td>\n",
       "    </tr>\n",
       "    <tr>\n",
       "      <th>Middle East</th>\n",
       "      <td>487878.0</td>\n",
       "      <td>631828.0</td>\n",
       "      <td>669042.0</td>\n",
       "      <td>684060.0</td>\n",
       "      <td>764586.0</td>\n",
       "      <td>825402.0</td>\n",
       "      <td>4062796.0</td>\n",
       "      <td>9.16%</td>\n",
       "    </tr>\n",
       "  </tbody>\n",
       "</table>\n",
       "</div>"
      ],
      "text/plain": [
       "                 2007      2008      2009      2010      2011      2012  \\\n",
       "continent                                                                 \n",
       "Asia         218983.0  219598.0  260995.0  280808.0  415224.0  476021.0   \n",
       "Sea-Based    266553.0  261614.0  330424.0  347150.0  369104.0  366865.0   \n",
       "Middle East  487878.0  631828.0  669042.0  684060.0  764586.0  825402.0   \n",
       "\n",
       "                 total avg_growth_rate  \n",
       "continent                               \n",
       "Asia         1871629.0          13.82%  \n",
       "Sea-Based    1941710.0           5.47%  \n",
       "Middle East  4062796.0           9.16%  "
      ]
     },
     "execution_count": 62,
     "metadata": {},
     "output_type": "execute_result"
    }
   ],
   "source": [
    "ofw_continents.iloc[-3:]"
   ]
  },
  {
   "cell_type": "markdown",
   "metadata": {},
   "source": [
    "While the Middle East had the largest amount of deployments, Asia had a higher growth in deployments, which increased 13.82% per year on average."
   ]
  },
  {
   "cell_type": "markdown",
   "metadata": {},
   "source": [
    "### Analyzing OFW Deployment by country in the Middle East and Asia"
   ]
  },
  {
   "cell_type": "markdown",
   "metadata": {},
   "source": [
    "Our findings show that the Middle East and Asia were the land-based destinations with the most number of OFW deployments. We will deepen our analysis by looking at them on a country level."
   ]
  },
  {
   "cell_type": "markdown",
   "metadata": {},
   "source": [
    "#### OFW Deployment in the Middle East"
   ]
  },
  {
   "cell_type": "code",
   "execution_count": 16,
   "metadata": {},
   "outputs": [
    {
     "data": {
      "text/html": [
       "<div>\n",
       "<style scoped>\n",
       "    .dataframe tbody tr th:only-of-type {\n",
       "        vertical-align: middle;\n",
       "    }\n",
       "\n",
       "    .dataframe tbody tr th {\n",
       "        vertical-align: top;\n",
       "    }\n",
       "\n",
       "    .dataframe thead th {\n",
       "        text-align: right;\n",
       "    }\n",
       "</style>\n",
       "<table border=\"1\" class=\"dataframe\">\n",
       "  <thead>\n",
       "    <tr style=\"text-align: right;\">\n",
       "      <th></th>\n",
       "      <th>2007</th>\n",
       "      <th>2008</th>\n",
       "      <th>2009</th>\n",
       "      <th>2010</th>\n",
       "      <th>2011</th>\n",
       "      <th>2012</th>\n",
       "      <th>total</th>\n",
       "      <th>avg_growth_rate</th>\n",
       "    </tr>\n",
       "    <tr>\n",
       "      <th>country</th>\n",
       "      <th></th>\n",
       "      <th></th>\n",
       "      <th></th>\n",
       "      <th></th>\n",
       "      <th></th>\n",
       "      <th></th>\n",
       "      <th></th>\n",
       "      <th></th>\n",
       "    </tr>\n",
       "  </thead>\n",
       "  <tbody>\n",
       "    <tr>\n",
       "      <th>Lebanon</th>\n",
       "      <td>468.0</td>\n",
       "      <td>12.0</td>\n",
       "      <td>1326.0</td>\n",
       "      <td>1327.0</td>\n",
       "      <td>896.0</td>\n",
       "      <td>1227.0</td>\n",
       "      <td>5256.0</td>\n",
       "      <td>17.43%</td>\n",
       "    </tr>\n",
       "    <tr>\n",
       "      <th>Libya</th>\n",
       "      <td>5941.0</td>\n",
       "      <td>7731.0</td>\n",
       "      <td>10383.0</td>\n",
       "      <td>11604.0</td>\n",
       "      <td>2152.0</td>\n",
       "      <td>6481.0</td>\n",
       "      <td>44292.0</td>\n",
       "      <td>1.46%</td>\n",
       "    </tr>\n",
       "    <tr>\n",
       "      <th>Rest of Middle East</th>\n",
       "      <td>11675.0</td>\n",
       "      <td>7796.0</td>\n",
       "      <td>8406.0</td>\n",
       "      <td>9654.0</td>\n",
       "      <td>9635.0</td>\n",
       "      <td>9881.0</td>\n",
       "      <td>57047.0</td>\n",
       "      <td>-2.74%</td>\n",
       "    </tr>\n",
       "    <tr>\n",
       "      <th>Oman</th>\n",
       "      <td>7463.0</td>\n",
       "      <td>10222.0</td>\n",
       "      <td>10502.0</td>\n",
       "      <td>10955.0</td>\n",
       "      <td>15029.0</td>\n",
       "      <td>16048.0</td>\n",
       "      <td>70219.0</td>\n",
       "      <td>13.61%</td>\n",
       "    </tr>\n",
       "    <tr>\n",
       "      <th>Bahrain</th>\n",
       "      <td>9898.0</td>\n",
       "      <td>13079.0</td>\n",
       "      <td>15001.0</td>\n",
       "      <td>15434.0</td>\n",
       "      <td>18230.0</td>\n",
       "      <td>22271.0</td>\n",
       "      <td>93913.0</td>\n",
       "      <td>14.47%</td>\n",
       "    </tr>\n",
       "    <tr>\n",
       "      <th>Kuwait</th>\n",
       "      <td>37080.0</td>\n",
       "      <td>38903.0</td>\n",
       "      <td>45900.0</td>\n",
       "      <td>53010.0</td>\n",
       "      <td>65603.0</td>\n",
       "      <td>75286.0</td>\n",
       "      <td>315782.0</td>\n",
       "      <td>12.53%</td>\n",
       "    </tr>\n",
       "    <tr>\n",
       "      <th>Qatar</th>\n",
       "      <td>56277.0</td>\n",
       "      <td>84342.0</td>\n",
       "      <td>89290.0</td>\n",
       "      <td>87813.0</td>\n",
       "      <td>100530.0</td>\n",
       "      <td>104622.0</td>\n",
       "      <td>522874.0</td>\n",
       "      <td>10.89%</td>\n",
       "    </tr>\n",
       "    <tr>\n",
       "      <th>United Arab Emirates</th>\n",
       "      <td>120657.0</td>\n",
       "      <td>193810.0</td>\n",
       "      <td>196815.0</td>\n",
       "      <td>201214.0</td>\n",
       "      <td>235775.0</td>\n",
       "      <td>259546.0</td>\n",
       "      <td>1207817.0</td>\n",
       "      <td>13.62%</td>\n",
       "    </tr>\n",
       "    <tr>\n",
       "      <th>Saudi Arabia</th>\n",
       "      <td>238419.0</td>\n",
       "      <td>275933.0</td>\n",
       "      <td>291419.0</td>\n",
       "      <td>293049.0</td>\n",
       "      <td>316736.0</td>\n",
       "      <td>330040.0</td>\n",
       "      <td>1745596.0</td>\n",
       "      <td>5.57%</td>\n",
       "    </tr>\n",
       "  </tbody>\n",
       "</table>\n",
       "</div>"
      ],
      "text/plain": [
       "                          2007      2008      2009      2010      2011  \\\n",
       "country                                                                  \n",
       "Lebanon                  468.0      12.0    1326.0    1327.0     896.0   \n",
       "Libya                   5941.0    7731.0   10383.0   11604.0    2152.0   \n",
       "Rest of Middle East    11675.0    7796.0    8406.0    9654.0    9635.0   \n",
       "Oman                    7463.0   10222.0   10502.0   10955.0   15029.0   \n",
       "Bahrain                 9898.0   13079.0   15001.0   15434.0   18230.0   \n",
       "Kuwait                 37080.0   38903.0   45900.0   53010.0   65603.0   \n",
       "Qatar                  56277.0   84342.0   89290.0   87813.0  100530.0   \n",
       "United Arab Emirates  120657.0  193810.0  196815.0  201214.0  235775.0   \n",
       "Saudi Arabia          238419.0  275933.0  291419.0  293049.0  316736.0   \n",
       "\n",
       "                          2012      total avg_growth_rate  \n",
       "country                                                    \n",
       "Lebanon                 1227.0     5256.0          17.43%  \n",
       "Libya                   6481.0    44292.0           1.46%  \n",
       "Rest of Middle East     9881.0    57047.0          -2.74%  \n",
       "Oman                   16048.0    70219.0          13.61%  \n",
       "Bahrain                22271.0    93913.0          14.47%  \n",
       "Kuwait                 75286.0   315782.0          12.53%  \n",
       "Qatar                 104622.0   522874.0          10.89%  \n",
       "United Arab Emirates  259546.0  1207817.0          13.62%  \n",
       "Saudi Arabia          330040.0  1745596.0           5.57%  "
      ]
     },
     "execution_count": 16,
     "metadata": {},
     "output_type": "execute_result"
    }
   ],
   "source": [
    "#Filtering the dataset to Middle Eastern countries\n",
    "ofw_mideast = ofw_clean[ofw_clean.iloc[:,1]=='Middle East']\n",
    "\n",
    "#Dropping 'land_or_sea' and 'continent' columns, setting 'country' as the index\n",
    "ofw_mideast = ofw_mideast.drop(ofw_mideast.columns[[0,1]],axis=1).set_index('country')\n",
    "\n",
    "#Creating a total deployment column\n",
    "ofw_mideast['total'] = ofw_mideast.sum(axis=1)\n",
    "ofw_mideast = ofw_mideast.sort_values(by=['total'])\n",
    "\n",
    "#Calculating and formatting the average growth rate\n",
    "ofw_mideast['avg_growth_rate'] = CAGR(ofw_mideast.iloc[:,0],ofw_mideast.iloc[:,5],6)\n",
    "ofw_mideast['avg_growth_rate'] = ofw_mideast['avg_growth_rate'].astype(float).map(\"{:.2%}\".format)\n",
    "\n",
    "ofw_mideast"
   ]
  },
  {
   "cell_type": "markdown",
   "metadata": {},
   "source": [
    "The data shows that Saudi Arabia, the United Arab Erimates (UAE), and Qatar are the top 3 destinations in the Middle East for OFW deployments."
   ]
  },
  {
   "cell_type": "code",
   "execution_count": 67,
   "metadata": {},
   "outputs": [
    {
     "data": {
      "text/plain": [
       "Text(0, 0.5, '')"
      ]
     },
     "execution_count": 67,
     "metadata": {},
     "output_type": "execute_result"
    },
    {
     "data": {
      "image/png": "[encoded data removed]",
      "text/plain": [
       "<Figure size 432x288 with 1 Axes>"
      ]
     },
     "metadata": {
      "needs_background": "light"
     },
     "output_type": "display_data"
    }
   ],
   "source": [
    "ofw_mideast.iloc[-3:,-2].T.plot(kind='barh')\n",
    "plt.xlabel('Deployment (in millions)')\n",
    "plt.ylabel('')"
   ]
  },
  {
   "cell_type": "markdown",
   "metadata": {},
   "source": [
    "Based on the bar chart, only Saudi Arabia and the UAE exceedeed 1 million deployments over the 6 year period. Trailing them is Qatar, with deployments totalling slightly above 500,000."
   ]
  },
  {
   "cell_type": "code",
   "execution_count": 18,
   "metadata": {},
   "outputs": [
    {
     "data": {
      "text/plain": [
       "<AxesSubplot:>"
      ]
     },
     "execution_count": 18,
     "metadata": {},
     "output_type": "execute_result"
    },
    {
     "data": {
      "image/png": "[encoded data removed]",
      "text/plain": [
       "<Figure size 432x288 with 1 Axes>"
      ]
     },
     "metadata": {
      "needs_background": "light"
     },
     "output_type": "display_data"
    }
   ],
   "source": [
    "ofw_mideast.iloc[-3:,:-2].T.plot()"
   ]
  },
  {
   "cell_type": "markdown",
   "metadata": {},
   "source": [
    "Above is the growth of OFW deployment over time for the Top 3 Middle East destinations. They will be split into individual graphs below."
   ]
  },
  {
   "cell_type": "code",
   "execution_count": 19,
   "metadata": {
    "scrolled": true
   },
   "outputs": [
    {
     "data": {
      "text/plain": [
       "Text(2.2, 1000, 'Qatar')"
      ]
     },
     "execution_count": 19,
     "metadata": {},
     "output_type": "execute_result"
    },
    {
     "data": {
      "image/png": "[encoded data removed]",
      "text/plain": [
       "<Figure size 1080x288 with 3 Axes>"
      ]
     },
     "metadata": {
      "needs_background": "light"
     },
     "output_type": "display_data"
    }
   ],
   "source": [
    "me_sau = ofw_mideast.iloc[-1,:-2]\n",
    "me_uae = ofw_mideast.iloc[-2,:-2]\n",
    "me_qtr = ofw_mideast.iloc[-3,:-2]\n",
    "\n",
    "fig, (ax1, ax2, ax3) = plt.subplots(1,3,sharey=True,sharex=True,figsize=(15,4))\n",
    "fig.suptitle('OFW Deployment per Year')\n",
    "\n",
    "axes = [ax1,ax2,ax3]\n",
    "\n",
    "ax1.plot(me_sau)\n",
    "ax1.text(1.8,1000,'Saudi Arabia')\n",
    "ax2.plot(me_uae)\n",
    "ax2.text(1.3,1000,'United Arab Emirates')\n",
    "ax3.plot(me_qtr)\n",
    "ax3.text(2.2,1000,'Qatar')"
   ]
  },
  {
   "cell_type": "code",
   "execution_count": 20,
   "metadata": {
    "scrolled": false
   },
   "outputs": [
    {
     "data": {
      "text/html": [
       "<div>\n",
       "<style scoped>\n",
       "    .dataframe tbody tr th:only-of-type {\n",
       "        vertical-align: middle;\n",
       "    }\n",
       "\n",
       "    .dataframe tbody tr th {\n",
       "        vertical-align: top;\n",
       "    }\n",
       "\n",
       "    .dataframe thead th {\n",
       "        text-align: right;\n",
       "    }\n",
       "</style>\n",
       "<table border=\"1\" class=\"dataframe\">\n",
       "  <thead>\n",
       "    <tr style=\"text-align: right;\">\n",
       "      <th></th>\n",
       "      <th>2007</th>\n",
       "      <th>2008</th>\n",
       "      <th>2009</th>\n",
       "      <th>2010</th>\n",
       "      <th>2011</th>\n",
       "      <th>2012</th>\n",
       "      <th>total</th>\n",
       "      <th>avg_growth_rate</th>\n",
       "    </tr>\n",
       "    <tr>\n",
       "      <th>country</th>\n",
       "      <th></th>\n",
       "      <th></th>\n",
       "      <th></th>\n",
       "      <th></th>\n",
       "      <th></th>\n",
       "      <th></th>\n",
       "      <th></th>\n",
       "      <th></th>\n",
       "    </tr>\n",
       "  </thead>\n",
       "  <tbody>\n",
       "    <tr>\n",
       "      <th>Qatar</th>\n",
       "      <td>56277.0</td>\n",
       "      <td>84342.0</td>\n",
       "      <td>89290.0</td>\n",
       "      <td>87813.0</td>\n",
       "      <td>100530.0</td>\n",
       "      <td>104622.0</td>\n",
       "      <td>522874.0</td>\n",
       "      <td>10.89%</td>\n",
       "    </tr>\n",
       "    <tr>\n",
       "      <th>United Arab Emirates</th>\n",
       "      <td>120657.0</td>\n",
       "      <td>193810.0</td>\n",
       "      <td>196815.0</td>\n",
       "      <td>201214.0</td>\n",
       "      <td>235775.0</td>\n",
       "      <td>259546.0</td>\n",
       "      <td>1207817.0</td>\n",
       "      <td>13.62%</td>\n",
       "    </tr>\n",
       "    <tr>\n",
       "      <th>Saudi Arabia</th>\n",
       "      <td>238419.0</td>\n",
       "      <td>275933.0</td>\n",
       "      <td>291419.0</td>\n",
       "      <td>293049.0</td>\n",
       "      <td>316736.0</td>\n",
       "      <td>330040.0</td>\n",
       "      <td>1745596.0</td>\n",
       "      <td>5.57%</td>\n",
       "    </tr>\n",
       "  </tbody>\n",
       "</table>\n",
       "</div>"
      ],
      "text/plain": [
       "                          2007      2008      2009      2010      2011  \\\n",
       "country                                                                  \n",
       "Qatar                  56277.0   84342.0   89290.0   87813.0  100530.0   \n",
       "United Arab Emirates  120657.0  193810.0  196815.0  201214.0  235775.0   \n",
       "Saudi Arabia          238419.0  275933.0  291419.0  293049.0  316736.0   \n",
       "\n",
       "                          2012      total avg_growth_rate  \n",
       "country                                                    \n",
       "Qatar                 104622.0   522874.0          10.89%  \n",
       "United Arab Emirates  259546.0  1207817.0          13.62%  \n",
       "Saudi Arabia          330040.0  1745596.0           5.57%  "
      ]
     },
     "execution_count": 20,
     "metadata": {},
     "output_type": "execute_result"
    }
   ],
   "source": [
    "ofw_mideast.iloc[-3:]"
   ]
  },
  {
   "cell_type": "markdown",
   "metadata": {},
   "source": [
    "While Saudi Arabia had the highest total deployments, its average growth rate was only around 5%. The UAE and Qatar, having double-digit averages, grew faster than Saudi Arabia at 10% and 13% respectively."
   ]
  },
  {
   "cell_type": "markdown",
   "metadata": {},
   "source": [
    "#### OFW Deployment in Asia"
   ]
  },
  {
   "cell_type": "code",
   "execution_count": 64,
   "metadata": {
    "scrolled": true
   },
   "outputs": [
    {
     "data": {
      "text/html": [
       "<div>\n",
       "<style scoped>\n",
       "    .dataframe tbody tr th:only-of-type {\n",
       "        vertical-align: middle;\n",
       "    }\n",
       "\n",
       "    .dataframe tbody tr th {\n",
       "        vertical-align: top;\n",
       "    }\n",
       "\n",
       "    .dataframe thead th {\n",
       "        text-align: right;\n",
       "    }\n",
       "</style>\n",
       "<table border=\"1\" class=\"dataframe\">\n",
       "  <thead>\n",
       "    <tr style=\"text-align: right;\">\n",
       "      <th></th>\n",
       "      <th>2007</th>\n",
       "      <th>2008</th>\n",
       "      <th>2009</th>\n",
       "      <th>2010</th>\n",
       "      <th>2011</th>\n",
       "      <th>2012</th>\n",
       "      <th>total</th>\n",
       "      <th>avg_growth_rate</th>\n",
       "    </tr>\n",
       "    <tr>\n",
       "      <th>country</th>\n",
       "      <th></th>\n",
       "      <th></th>\n",
       "      <th></th>\n",
       "      <th></th>\n",
       "      <th></th>\n",
       "      <th></th>\n",
       "      <th></th>\n",
       "      <th></th>\n",
       "    </tr>\n",
       "  </thead>\n",
       "  <tbody>\n",
       "    <tr>\n",
       "      <th>Japan</th>\n",
       "      <td>8867.0</td>\n",
       "      <td>6555.0</td>\n",
       "      <td>6418.0</td>\n",
       "      <td>5938.0</td>\n",
       "      <td>9285.0</td>\n",
       "      <td>9947.0</td>\n",
       "      <td>47010.0</td>\n",
       "      <td>1.93%</td>\n",
       "    </tr>\n",
       "    <tr>\n",
       "      <th>Brunei</th>\n",
       "      <td>14667.0</td>\n",
       "      <td>6930.0</td>\n",
       "      <td>7413.0</td>\n",
       "      <td>7907.0</td>\n",
       "      <td>15406.0</td>\n",
       "      <td>14907.0</td>\n",
       "      <td>67230.0</td>\n",
       "      <td>0.27%</td>\n",
       "    </tr>\n",
       "    <tr>\n",
       "      <th>Korea</th>\n",
       "      <td>14265.0</td>\n",
       "      <td>12367.0</td>\n",
       "      <td>14851.0</td>\n",
       "      <td>11697.0</td>\n",
       "      <td>10943.0</td>\n",
       "      <td>8979.0</td>\n",
       "      <td>73102.0</td>\n",
       "      <td>-7.43%</td>\n",
       "    </tr>\n",
       "    <tr>\n",
       "      <th>Malaysia</th>\n",
       "      <td>9725.0</td>\n",
       "      <td>6034.0</td>\n",
       "      <td>7256.0</td>\n",
       "      <td>9802.0</td>\n",
       "      <td>16797.0</td>\n",
       "      <td>38407.0</td>\n",
       "      <td>88021.0</td>\n",
       "      <td>25.72%</td>\n",
       "    </tr>\n",
       "    <tr>\n",
       "      <th>Taiwan</th>\n",
       "      <td>37136.0</td>\n",
       "      <td>38546.0</td>\n",
       "      <td>33751.0</td>\n",
       "      <td>36866.0</td>\n",
       "      <td>41896.0</td>\n",
       "      <td>41492.0</td>\n",
       "      <td>229687.0</td>\n",
       "      <td>1.87%</td>\n",
       "    </tr>\n",
       "    <tr>\n",
       "      <th>Rest of Asia</th>\n",
       "      <td>25723.0</td>\n",
       "      <td>29143.0</td>\n",
       "      <td>36743.0</td>\n",
       "      <td>37007.0</td>\n",
       "      <td>44709.0</td>\n",
       "      <td>57919.0</td>\n",
       "      <td>231244.0</td>\n",
       "      <td>14.49%</td>\n",
       "    </tr>\n",
       "    <tr>\n",
       "      <th>Singapore</th>\n",
       "      <td>49431.0</td>\n",
       "      <td>41678.0</td>\n",
       "      <td>54421.0</td>\n",
       "      <td>70251.0</td>\n",
       "      <td>146613.0</td>\n",
       "      <td>172690.0</td>\n",
       "      <td>535084.0</td>\n",
       "      <td>23.18%</td>\n",
       "    </tr>\n",
       "    <tr>\n",
       "      <th>Hong Kong</th>\n",
       "      <td>59169.0</td>\n",
       "      <td>78345.0</td>\n",
       "      <td>100142.0</td>\n",
       "      <td>101340.0</td>\n",
       "      <td>129575.0</td>\n",
       "      <td>131680.0</td>\n",
       "      <td>600251.0</td>\n",
       "      <td>14.26%</td>\n",
       "    </tr>\n",
       "  </tbody>\n",
       "</table>\n",
       "</div>"
      ],
      "text/plain": [
       "                 2007     2008      2009      2010      2011      2012  \\\n",
       "country                                                                  \n",
       "Japan          8867.0   6555.0    6418.0    5938.0    9285.0    9947.0   \n",
       "Brunei        14667.0   6930.0    7413.0    7907.0   15406.0   14907.0   \n",
       "Korea         14265.0  12367.0   14851.0   11697.0   10943.0    8979.0   \n",
       "Malaysia       9725.0   6034.0    7256.0    9802.0   16797.0   38407.0   \n",
       "Taiwan        37136.0  38546.0   33751.0   36866.0   41896.0   41492.0   \n",
       "Rest of Asia  25723.0  29143.0   36743.0   37007.0   44709.0   57919.0   \n",
       "Singapore     49431.0  41678.0   54421.0   70251.0  146613.0  172690.0   \n",
       "Hong Kong     59169.0  78345.0  100142.0  101340.0  129575.0  131680.0   \n",
       "\n",
       "                 total avg_growth_rate  \n",
       "country                                 \n",
       "Japan          47010.0           1.93%  \n",
       "Brunei         67230.0           0.27%  \n",
       "Korea          73102.0          -7.43%  \n",
       "Malaysia       88021.0          25.72%  \n",
       "Taiwan        229687.0           1.87%  \n",
       "Rest of Asia  231244.0          14.49%  \n",
       "Singapore     535084.0          23.18%  \n",
       "Hong Kong     600251.0          14.26%  "
      ]
     },
     "execution_count": 64,
     "metadata": {},
     "output_type": "execute_result"
    }
   ],
   "source": [
    "#Filtering the dataset to Asian countries\n",
    "ofw_asia = ofw_clean[ofw_clean.iloc[:,1]=='Asia']\n",
    "\n",
    "#Dropping 'land_or_sea' and 'continent' columns, setting 'country' as the index\n",
    "ofw_asia = ofw_asia.drop(ofw_asia.columns[[0,1]],axis=1).set_index('country')\n",
    "\n",
    "#Creating a total deployment column\n",
    "ofw_asia['total'] = ofw_asia.sum(axis=1)\n",
    "ofw_asia = ofw_asia.sort_values(by=['total'])\n",
    "\n",
    "#Calculating and formatting the average growth rate\n",
    "ofw_asia['avg_growth_rate'] = CAGR(ofw_asia.iloc[:,0],ofw_asia.iloc[:,5],6)\n",
    "ofw_asia['avg_growth_rate'] = ofw_asia['avg_growth_rate'].astype(float).map(\"{:.2%}\".format)\n",
    "\n",
    "ofw_asia"
   ]
  },
  {
   "cell_type": "markdown",
   "metadata": {},
   "source": [
    "The top 3 countries for OFW Deployments are Hong Kong, Singapore, and Taiwain. We will not consider the 'Rest of Asia' in our ranking as this is an aggregated row of multiple countries."
   ]
  },
  {
   "cell_type": "code",
   "execution_count": 70,
   "metadata": {},
   "outputs": [
    {
     "data": {
      "text/plain": [
       "<AxesSubplot:ylabel='country'>"
      ]
     },
     "execution_count": 70,
     "metadata": {},
     "output_type": "execute_result"
    },
    {
     "data": {
      "image/png": "[encoded data removed]",
      "text/plain": [
       "<Figure size 432x288 with 1 Axes>"
      ]
     },
     "metadata": {
      "needs_background": "light"
     },
     "output_type": "display_data"
    }
   ],
   "source": [
    "ofw_asia.iloc[[-4,-2,-1],-2].T.plot(kind='barh')"
   ]
  },
  {
   "cell_type": "markdown",
   "metadata": {},
   "source": [
    "The bar chart shows that only Hong Kong and Singapore exceeded 500,000 OFW deployments over the 6 year period. Taiwain's total trails them at a count slightly below 230,000. "
   ]
  },
  {
   "cell_type": "code",
   "execution_count": 24,
   "metadata": {
    "scrolled": false
   },
   "outputs": [
    {
     "data": {
      "text/plain": [
       "<AxesSubplot:>"
      ]
     },
     "execution_count": 24,
     "metadata": {},
     "output_type": "execute_result"
    },
    {
     "data": {
      "image/png": "[encoded data removed]",
      "text/plain": [
       "<Figure size 432x288 with 1 Axes>"
      ]
     },
     "metadata": {
      "needs_background": "light"
     },
     "output_type": "display_data"
    }
   ],
   "source": [
    "ofw_asia.iloc[[-1,-2,-4],:-2].T.plot()"
   ]
  },
  {
   "cell_type": "markdown",
   "metadata": {},
   "source": [
    "Above is the growth of OFW deployment over time for the Top 3 Asian destinations. They will be split into individual graphs below."
   ]
  },
  {
   "cell_type": "code",
   "execution_count": 66,
   "metadata": {
    "scrolled": true
   },
   "outputs": [
    {
     "data": {
      "text/plain": [
       "Text(2.15, 1000, 'Taiwan')"
      ]
     },
     "execution_count": 66,
     "metadata": {},
     "output_type": "execute_result"
    },
    {
     "data": {
      "image/png": "[encoded data removed]",
      "text/plain": [
       "<Figure size 1080x288 with 3 Axes>"
      ]
     },
     "metadata": {
      "needs_background": "light"
     },
     "output_type": "display_data"
    }
   ],
   "source": [
    "as_hk = ofw_asia.iloc[-1,:-2]\n",
    "as_sg = ofw_asia.iloc[-2,:-2]\n",
    "as_tw = ofw_asia.iloc[-4,:-2]\n",
    "\n",
    "fig, (ax1, ax2, ax3) = plt.subplots(1,3,sharey=True,sharex=True,figsize=(15,4))\n",
    "fig.suptitle('OFW Deployment per Year')\n",
    "\n",
    "axes = [ax1,ax2,ax3]\n",
    "\n",
    "ax1.plot(as_hk)\n",
    "ax1.text(1.9,1000,'Hong Kong')\n",
    "ax2.plot(as_sg)\n",
    "ax2.text(1.9,1000,'Singapore')\n",
    "ax3.plot(as_tw)\n",
    "ax3.text(2.15,1000,'Taiwan')"
   ]
  },
  {
   "cell_type": "code",
   "execution_count": 27,
   "metadata": {},
   "outputs": [
    {
     "data": {
      "text/html": [
       "<div>\n",
       "<style scoped>\n",
       "    .dataframe tbody tr th:only-of-type {\n",
       "        vertical-align: middle;\n",
       "    }\n",
       "\n",
       "    .dataframe tbody tr th {\n",
       "        vertical-align: top;\n",
       "    }\n",
       "\n",
       "    .dataframe thead th {\n",
       "        text-align: right;\n",
       "    }\n",
       "</style>\n",
       "<table border=\"1\" class=\"dataframe\">\n",
       "  <thead>\n",
       "    <tr style=\"text-align: right;\">\n",
       "      <th></th>\n",
       "      <th>2007</th>\n",
       "      <th>2008</th>\n",
       "      <th>2009</th>\n",
       "      <th>2010</th>\n",
       "      <th>2011</th>\n",
       "      <th>2012</th>\n",
       "      <th>total</th>\n",
       "      <th>avg_growth_rate</th>\n",
       "    </tr>\n",
       "    <tr>\n",
       "      <th>country</th>\n",
       "      <th></th>\n",
       "      <th></th>\n",
       "      <th></th>\n",
       "      <th></th>\n",
       "      <th></th>\n",
       "      <th></th>\n",
       "      <th></th>\n",
       "      <th></th>\n",
       "    </tr>\n",
       "  </thead>\n",
       "  <tbody>\n",
       "    <tr>\n",
       "      <th>Hong Kong</th>\n",
       "      <td>59169.0</td>\n",
       "      <td>78345.0</td>\n",
       "      <td>100142.0</td>\n",
       "      <td>101340.0</td>\n",
       "      <td>129575.0</td>\n",
       "      <td>131680.0</td>\n",
       "      <td>600251.0</td>\n",
       "      <td>14.26%</td>\n",
       "    </tr>\n",
       "    <tr>\n",
       "      <th>Singapore</th>\n",
       "      <td>49431.0</td>\n",
       "      <td>41678.0</td>\n",
       "      <td>54421.0</td>\n",
       "      <td>70251.0</td>\n",
       "      <td>146613.0</td>\n",
       "      <td>172690.0</td>\n",
       "      <td>535084.0</td>\n",
       "      <td>23.18%</td>\n",
       "    </tr>\n",
       "    <tr>\n",
       "      <th>Taiwan</th>\n",
       "      <td>37136.0</td>\n",
       "      <td>38546.0</td>\n",
       "      <td>33751.0</td>\n",
       "      <td>36866.0</td>\n",
       "      <td>41896.0</td>\n",
       "      <td>41492.0</td>\n",
       "      <td>229687.0</td>\n",
       "      <td>1.87%</td>\n",
       "    </tr>\n",
       "  </tbody>\n",
       "</table>\n",
       "</div>"
      ],
      "text/plain": [
       "              2007     2008      2009      2010      2011      2012     total  \\\n",
       "country                                                                         \n",
       "Hong Kong  59169.0  78345.0  100142.0  101340.0  129575.0  131680.0  600251.0   \n",
       "Singapore  49431.0  41678.0   54421.0   70251.0  146613.0  172690.0  535084.0   \n",
       "Taiwan     37136.0  38546.0   33751.0   36866.0   41896.0   41492.0  229687.0   \n",
       "\n",
       "          avg_growth_rate  \n",
       "country                    \n",
       "Hong Kong          14.26%  \n",
       "Singapore          23.18%  \n",
       "Taiwan              1.87%  "
      ]
     },
     "execution_count": 27,
     "metadata": {},
     "output_type": "execute_result"
    }
   ],
   "source": [
    "ofw_asia.iloc[[-1,-2,-4]]"
   ]
  },
  {
   "cell_type": "markdown",
   "metadata": {},
   "source": [
    "Singapore, while only around 10.8% smaller in total deployments than Hong Kong, has averaged a high growth rate of 23%. Although, Hong Kong still averaged a double-digit growth rate of 14%. Taiwain averaged a relatively slower growth rate of 1.8% yet it was still one of the 3 Asian countries that exceeded 200,000 total deployments."
   ]
  },
  {
   "cell_type": "markdown",
   "metadata": {},
   "source": [
    "### Conclusions"
   ]
  },
  {
   "cell_type": "markdown",
   "metadata": {},
   "source": [
    "This is a summary of our findings:\n",
    "\n",
    "- The Middle East, Sea-based deployments, and Asia accounted for the highest number of OFW deployments from 2007-2012.\n",
    "\n",
    "- The Middle East held the highest total deployments but Asia had a higher average growth rate.\n",
    "\n",
    "- In the Middle East, Saudi Arabia was the most populous destination but the UAE is currently outpacing its growth and the total deploymeny difference is not that far off.\n",
    "\n",
    "- In Asia, Hong Kong had the most total deployments and averaged a high growth rate. Although, Singapore's total deployments were not that far off and the country averaged a higher growth rate than Hong Kong.\n",
    "\n",
    "If more data were available in a future iteration of this dataset, I would like to explore the following:\n",
    "- What are the industries or occupations of OFWs in the Middle East and Asia?\n",
    "- What"
   ]
  },
  {
   "cell_type": "code",
   "execution_count": null,
   "metadata": {},
   "outputs": [],
   "source": []
  }
 ],
 "metadata": {
  "kernelspec": {
   "display_name": "Python 3",
   "language": "python",
   "name": "python3"
  },
  "language_info": {
   "codemirror_mode": {
    "name": "ipython",
    "version": 3
   },
   "file_extension": ".py",
   "mimetype": "text/x-python",
   "name": "python",
   "nbconvert_exporter": "python",
   "pygments_lexer": "ipython3",
   "version": "3.8.5"
  }
 },
 "nbformat": 4,
 "nbformat_minor": 4
}
